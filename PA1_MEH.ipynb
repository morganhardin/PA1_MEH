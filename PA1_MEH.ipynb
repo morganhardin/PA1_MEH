{
 "cells": [
  {
   "cell_type": "markdown",
   "id": "b4cda82b",
   "metadata": {},
   "source": [
    "# Programming Assignment 1\n",
    "---\n",
    "**Author:** Morgan Hardin  \n",
    "**Version:** 1.0  \n",
    "**Semester:** Spring 2024 \n",
    "\n",
    "This *notebook* contains my solution(s) to **Programming Assignment 1**\n",
    "\n",
    "- Problem 1: Manipulating Numbers.\n",
    "- Problem 2: Calculating Target Heart Rate"
   ]
  },
  {
   "cell_type": "markdown",
   "id": "399978a0",
   "metadata": {},
   "source": [
    "### Problem 1: Manipulating Numbers"
   ]
  },
  {
   "cell_type": "code",
   "execution_count": 3,
   "id": "a8bacba1",
   "metadata": {},
   "outputs": [
    {
     "name": "stdin",
     "output_type": "stream",
     "text": [
      "Enter a Floating Point Number:  44.3\n",
      "Enter an Integer:  16\n"
     ]
    },
    {
     "name": "stdout",
     "output_type": "stream",
     "text": [
      "The sum is:  60.300.\n",
      "The difference is:  28.300.\n",
      "The product is:  708.800.\n",
      "The quotient is:  2.769.\n",
      "The type for result is: <class 'float'>.\n"
     ]
    }
   ],
   "source": [
    "x = float(input(\"Enter a Floating Point Number: \"))\n",
    "y = int(input(\"Enter an Integer: \"))\n",
    "result = x + y\n",
    "print(f\"The sum is: {result: .3f}.\")\n",
    "result = x - y\n",
    "print(f\"The difference is: {result: .3f}.\")\n",
    "result = x * y\n",
    "print(f\"The product is: {result: .3f}.\")\n",
    "result = x / y\n",
    "print(f\"The quotient is: {result: .3f}.\")\n",
    "print(f\"The type for result is: {type(result)}.\")"
   ]
  },
  {
   "cell_type": "markdown",
   "id": "9ba16c46",
   "metadata": {},
   "source": [
    "### Problem 2: Calculating Target Heart Rate"
   ]
  },
  {
   "cell_type": "code",
   "execution_count": 2,
   "id": "ae51fb66",
   "metadata": {},
   "outputs": [
    {
     "name": "stdin",
     "output_type": "stream",
     "text": [
      "Enter your Age:  21\n"
     ]
    },
    {
     "name": "stdout",
     "output_type": "stream",
     "text": [
      "Your age is: 21.\n",
      "Your max heart rate is: 199.\n",
      "Your target heart rate limit when exercising is betweeen 99.5 and 169.15 beats per minute.\n"
     ]
    }
   ],
   "source": [
    "age = int(input(\"Enter your Age: \"))\n",
    "print(f\"Your age is: {age}.\")\n",
    "maxHeartRate = 220 - age\n",
    "print(f\"Your max heart rate is: {maxHeartRate}.\")\n",
    "upper = maxHeartRate * 0.85\n",
    "lower = maxHeartRate * 0.5\n",
    "print(f\"Your target heart rate limit when exercising is betweeen {lower} and {upper} beats per minute.\")"
   ]
  }
 ],
 "metadata": {
  "kernelspec": {
   "display_name": "Python 3 (ipykernel)",
   "language": "python",
   "name": "python3"
  },
  "language_info": {
   "codemirror_mode": {
    "name": "ipython",
    "version": 3
   },
   "file_extension": ".py",
   "mimetype": "text/x-python",
   "name": "python",
   "nbconvert_exporter": "python",
   "pygments_lexer": "ipython3",
   "version": "3.9.12"
  }
 },
 "nbformat": 4,
 "nbformat_minor": 5
}
